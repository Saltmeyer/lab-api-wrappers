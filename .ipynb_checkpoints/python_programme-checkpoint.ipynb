{
 "cells": [
  {
   "cell_type": "code",
   "execution_count": null,
   "id": "f623b226",
   "metadata": {},
   "outputs": [],
   "source": [
    "import spotipy\n",
    "from spotipy.oauth2 import SpotifyClientCredentials\n",
    "import pandas as pd\n",
    "import numpy as np\n",
    "import matplotlib.pyplot as plt\n",
    "from sklearn import cluster, datasets\n",
    "from sklearn.preprocessing import StandardScaler\n",
    "from matplotlib.lines import Line2D\n",
    "from sklearn.cluster import KMeans\n",
    "\n",
    "\n",
    "songs = pd.read_csv('all_tracks_final.csv')\n",
    "top100 = pd.read_csv('Top100_songs.csv')\n",
    "df_all_features = pd.read_csv('df_all_features.csv')\n",
    "\n",
    "secrets_file = open(\"secrets.txt\",\"r\")\n",
    "string = secrets_file.read()\n",
    "string.split('\\n')\n",
    "secrets_dict={}\n",
    "for line in string.split('\\n'):\n",
    "    if len(line) > 0:\n",
    "        secrets_dict[line.split(':')[0]]=line.split(':')[1]\n",
    "secrets_dict\n",
    "sp = spotipy.Spotify(auth_manager=SpotifyClientCredentials(client_id=secrets_dict['cid'],\n",
    "                                                           client_secret=secrets_dict['csecret']))\n",
    "\n",
    "x_transformer = StandardScaler().fit(df_all_features)\n",
    "x_prep = x_transformer.transform(df_all_features)\n",
    "kmeans = KMeans(n_clusters=3, random_state=1234)\n",
    "kmeans.fit(x_prep)\n",
    "clusters = kmeans.predict(x_prep)\n",
    "pd.Series(clusters).value_counts().sort_index()\n",
    "\n",
    "song_choice = input('Please enter a song name: ')\n",
    "if top100.song.isin([song_choice]).any:\n",
    "    yoursong = top100.sample(n=1)\n",
    "    print('We recommend: ' + yoursong['song'].values[0] + ' by ' +  yoursong['artist'].values[0])\n",
    "else:\n",
    "    \n",
    "    results = sp.search(song_choice, type = 'track', limit=1)\n",
    "    song_uri =song_uri = results['tracks']['items'][0]['uri']\n",
    "    features = sp.audio_features(song_uri) # this should be a dictionary\n",
    "    features_df = pd.DataFrame(features)\n",
    "    features_df = features_df.select_dtypes(np.number)\n",
    "    features_df = features_df.drop(['duration_ms', 'time_signature'], axis=1)\n",
    "    x_new = x_transformer.transform(features_df)\n",
    "    cluster_new = kmeans.predict(x_new)# this is an array\n",
    "    df_cluster = all_tracks_final['cluster'] == list(cluster_new)[0]\n",
    "    print('We recommend: ' + df_cluster.sample(n=1))"
   ]
  }
 ],
 "metadata": {
  "kernelspec": {
   "display_name": "Python 3",
   "language": "python",
   "name": "python3"
  },
  "language_info": {
   "codemirror_mode": {
    "name": "ipython",
    "version": 3
   },
   "file_extension": ".py",
   "mimetype": "text/x-python",
   "name": "python",
   "nbconvert_exporter": "python",
   "pygments_lexer": "ipython3",
   "version": "3.8.8"
  }
 },
 "nbformat": 4,
 "nbformat_minor": 5
}
